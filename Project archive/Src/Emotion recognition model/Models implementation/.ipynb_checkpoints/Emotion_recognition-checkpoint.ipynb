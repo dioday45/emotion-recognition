{
 "cells": [
  {
   "cell_type": "markdown",
   "id": "80670c60-6b70-4df3-9626-ce58dd901bce",
   "metadata": {},
   "source": [
    "# Data processing"
   ]
  },
  {
   "cell_type": "markdown",
   "id": "e48999d4",
   "metadata": {},
   "source": [
    "## Imports"
   ]
  },
  {
   "cell_type": "code",
   "execution_count": 1,
   "id": "e6779b9b-685f-4855-8aed-dbb2d7418ebc",
   "metadata": {},
   "outputs": [],
   "source": [
    "import pandas as pd\n",
    "import numpy as np\n",
    "import seaborn as sns\n",
    "import matplotlib.pyplot as plt"
   ]
  },
  {
   "cell_type": "markdown",
   "id": "89170ae4",
   "metadata": {},
   "source": [
    "## Data preparation\n",
    "Iterate over each participant and keep only the first 20 line and the 20 lines before Apex==True (for each expression)"
   ]
  },
  {
   "cell_type": "code",
   "execution_count": 2,
   "id": "8eefe85c-cbaf-4915-845a-939a1ac6fff1",
   "metadata": {},
   "outputs": [],
   "source": [
    "def first_20(df):\n",
    "    #only first 20 frame for each expression\n",
    "    df = df[df['Frame'] < 5].copy()\n",
    "    \n",
    "    #Change label to \"Neutral\"\n",
    "    df[\"Expression\"] = \"Neutral\"\n",
    "    return df\n",
    "\n",
    "#Get the 20 row before \"Apex\" == true (included)\n",
    "def first_20_before_apex(df):\n",
    "    idx = df[df['Apex']==True].index\n",
    "    filtered_idx = idx\n",
    "    for i in range(1,30):\n",
    "        filtered_idx = filtered_idx.union(idx-i)\n",
    "    \n",
    "    return df.iloc[filtered_idx]"
   ]
  },
  {
   "cell_type": "code",
   "execution_count": 3,
   "id": "997e4920",
   "metadata": {},
   "outputs": [],
   "source": [
    "def get_data():\n",
    "    eyes_li = []\n",
    "    lips_li = []\n",
    "    subjects = [0,1,2,3,4,5,6,8,9,10,11,12,13,14,15] #skip subject 7\n",
    "    for x in subjects:\n",
    "        eyes_path = \"Data/subject {}/Eyes/eye_blendshapes.csv\".format(x)\n",
    "        lips_path = \"Data/subject {}/Lips/lips_blendshapes.csv\".format(x)\n",
    "\n",
    "        df1 = pd.read_csv(eyes_path)\n",
    "        df2 = pd.read_csv(lips_path)\n",
    "        \n",
    "        if(not df1[\"Apex\"].equals(df2[\"Apex\"])):\n",
    "            print(\"alert with \" + str(x))\n",
    "\n",
    "        df1 = pd.concat([first_20(df1), first_20_before_apex(df1)])\n",
    "        df2 = pd.concat([first_20(df2), first_20_before_apex(df2)])\n",
    "\n",
    "        eyes_li.append(df1)\n",
    "        lips_li.append(df2)\n",
    "\n",
    "    return pd.concat(eyes_li), pd.concat(lips_li)\n",
    "    \n",
    "Eyes_df, Lips_df = get_data()\n"
   ]
  },
  {
   "cell_type": "markdown",
   "id": "baeba25b",
   "metadata": {},
   "source": [
    "Remove AUs data and useless features"
   ]
  },
  {
   "cell_type": "code",
   "execution_count": 4,
   "id": "6d8da9b7",
   "metadata": {},
   "outputs": [],
   "source": [
    "expression = [\"Neutral\",\"Happy\", \"Sad\", \"Angry\", \"Fear\", \"Disgust\", \"Surprise\"]\n",
    "\n",
    "#Remove AUs\n",
    "Lips_df = Lips_df[Lips_df[\"Expression\"].isin(expression)].reset_index(drop=True)\n",
    "Eyes_df = Eyes_df[Eyes_df[\"Expression\"].isin(expression)].reset_index(drop=True)\n",
    "\n",
    "#Remove useless features\n",
    "Lips_df = Lips_df.drop([\"Subject number\", \"Expression\",\"Multiple expression\",\"Frame\",\"Apex\"], axis=1)\n",
    "Eyes_df = Eyes_df.drop([\"Subject number\",\"Multiple expression\",\"Frame\",\"Apex\", \"Max\", \"None\"], axis=1)\n"
   ]
  },
  {
   "cell_type": "markdown",
   "id": "b7b7f97d",
   "metadata": {},
   "source": [
    "Merge Lips and Eye together"
   ]
  },
  {
   "cell_type": "code",
   "execution_count": 5,
   "id": "48e8bb7f",
   "metadata": {},
   "outputs": [],
   "source": [
    "def merge_df(df1, df2):\n",
    "    return pd.concat([df1,df2], axis=1).reset_index(drop=True)\n",
    "\n",
    "\n",
    "expr_df = merge_df(Eyes_df, Lips_df)\n",
    "expr_df.to_csv(\"final_dataset.csv\")"
   ]
  },
  {
   "cell_type": "markdown",
   "id": "e42f5cb4",
   "metadata": {},
   "source": [
    "Define X and y data"
   ]
  },
  {
   "cell_type": "code",
   "execution_count": 6,
   "id": "d6b47ae2",
   "metadata": {},
   "outputs": [],
   "source": [
    "X = expr_df.drop(\"Expression\", axis = 1)\n",
    "X[X<1e-2]=0\n",
    "\n",
    "y = expr_df[\"Expression\"]"
   ]
  },
  {
   "cell_type": "code",
   "execution_count": 7,
   "id": "63d981c0",
   "metadata": {},
   "outputs": [
    {
     "data": {
      "text/html": [
       "<div>\n",
       "<style scoped>\n",
       "    .dataframe tbody tr th:only-of-type {\n",
       "        vertical-align: middle;\n",
       "    }\n",
       "\n",
       "    .dataframe tbody tr th {\n",
       "        vertical-align: top;\n",
       "    }\n",
       "\n",
       "    .dataframe thead th {\n",
       "        text-align: right;\n",
       "    }\n",
       "</style>\n",
       "<table border=\"1\" class=\"dataframe\">\n",
       "  <thead>\n",
       "    <tr style=\"text-align: right;\">\n",
       "      <th></th>\n",
       "      <th>Eye_Left_Blink</th>\n",
       "      <th>Eye_Left_Wide</th>\n",
       "      <th>Eye_Left_Right</th>\n",
       "      <th>Eye_Left_Left</th>\n",
       "      <th>Eye_Left_Up</th>\n",
       "      <th>Eye_Left_Down</th>\n",
       "      <th>Eye_Right_Blink</th>\n",
       "      <th>Eye_Right_Wide</th>\n",
       "      <th>Eye_Right_Right</th>\n",
       "      <th>Eye_Right_Left</th>\n",
       "      <th>...</th>\n",
       "      <th>Tongue_Left</th>\n",
       "      <th>Tongue_Right</th>\n",
       "      <th>Tongue_Up</th>\n",
       "      <th>Tongue_Down</th>\n",
       "      <th>Tongue_Roll</th>\n",
       "      <th>Tongue_LongStep2</th>\n",
       "      <th>Tongue_UpRight_Morph</th>\n",
       "      <th>Tongue_UpLeft_Morph</th>\n",
       "      <th>Tongue_DownRight_Morph</th>\n",
       "      <th>Tongue_DownLeft_Morph</th>\n",
       "    </tr>\n",
       "  </thead>\n",
       "  <tbody>\n",
       "    <tr>\n",
       "      <th>0</th>\n",
       "      <td>0.090263</td>\n",
       "      <td>0.0</td>\n",
       "      <td>0.0</td>\n",
       "      <td>0.072830</td>\n",
       "      <td>0.0</td>\n",
       "      <td>0.022194</td>\n",
       "      <td>0.061019</td>\n",
       "      <td>0.0</td>\n",
       "      <td>0.0</td>\n",
       "      <td>0.072830</td>\n",
       "      <td>...</td>\n",
       "      <td>0.0</td>\n",
       "      <td>0.0</td>\n",
       "      <td>0.0</td>\n",
       "      <td>0.0</td>\n",
       "      <td>0.070815</td>\n",
       "      <td>0.247188</td>\n",
       "      <td>0.0</td>\n",
       "      <td>0.0</td>\n",
       "      <td>0.0</td>\n",
       "      <td>0.0</td>\n",
       "    </tr>\n",
       "    <tr>\n",
       "      <th>1</th>\n",
       "      <td>0.083657</td>\n",
       "      <td>0.0</td>\n",
       "      <td>0.0</td>\n",
       "      <td>0.072615</td>\n",
       "      <td>0.0</td>\n",
       "      <td>0.023017</td>\n",
       "      <td>0.059591</td>\n",
       "      <td>0.0</td>\n",
       "      <td>0.0</td>\n",
       "      <td>0.072615</td>\n",
       "      <td>...</td>\n",
       "      <td>0.0</td>\n",
       "      <td>0.0</td>\n",
       "      <td>0.0</td>\n",
       "      <td>0.0</td>\n",
       "      <td>0.063293</td>\n",
       "      <td>0.244334</td>\n",
       "      <td>0.0</td>\n",
       "      <td>0.0</td>\n",
       "      <td>0.0</td>\n",
       "      <td>0.0</td>\n",
       "    </tr>\n",
       "    <tr>\n",
       "      <th>2</th>\n",
       "      <td>0.089432</td>\n",
       "      <td>0.0</td>\n",
       "      <td>0.0</td>\n",
       "      <td>0.072615</td>\n",
       "      <td>0.0</td>\n",
       "      <td>0.021703</td>\n",
       "      <td>0.060957</td>\n",
       "      <td>0.0</td>\n",
       "      <td>0.0</td>\n",
       "      <td>0.072615</td>\n",
       "      <td>...</td>\n",
       "      <td>0.0</td>\n",
       "      <td>0.0</td>\n",
       "      <td>0.0</td>\n",
       "      <td>0.0</td>\n",
       "      <td>0.063293</td>\n",
       "      <td>0.244334</td>\n",
       "      <td>0.0</td>\n",
       "      <td>0.0</td>\n",
       "      <td>0.0</td>\n",
       "      <td>0.0</td>\n",
       "    </tr>\n",
       "    <tr>\n",
       "      <th>3</th>\n",
       "      <td>0.091497</td>\n",
       "      <td>0.0</td>\n",
       "      <td>0.0</td>\n",
       "      <td>0.072433</td>\n",
       "      <td>0.0</td>\n",
       "      <td>0.022464</td>\n",
       "      <td>0.058775</td>\n",
       "      <td>0.0</td>\n",
       "      <td>0.0</td>\n",
       "      <td>0.072433</td>\n",
       "      <td>...</td>\n",
       "      <td>0.0</td>\n",
       "      <td>0.0</td>\n",
       "      <td>0.0</td>\n",
       "      <td>0.0</td>\n",
       "      <td>0.070870</td>\n",
       "      <td>0.235028</td>\n",
       "      <td>0.0</td>\n",
       "      <td>0.0</td>\n",
       "      <td>0.0</td>\n",
       "      <td>0.0</td>\n",
       "    </tr>\n",
       "    <tr>\n",
       "      <th>4</th>\n",
       "      <td>0.087153</td>\n",
       "      <td>0.0</td>\n",
       "      <td>0.0</td>\n",
       "      <td>0.072433</td>\n",
       "      <td>0.0</td>\n",
       "      <td>0.021962</td>\n",
       "      <td>0.060056</td>\n",
       "      <td>0.0</td>\n",
       "      <td>0.0</td>\n",
       "      <td>0.072433</td>\n",
       "      <td>...</td>\n",
       "      <td>0.0</td>\n",
       "      <td>0.0</td>\n",
       "      <td>0.0</td>\n",
       "      <td>0.0</td>\n",
       "      <td>0.070870</td>\n",
       "      <td>0.235028</td>\n",
       "      <td>0.0</td>\n",
       "      <td>0.0</td>\n",
       "      <td>0.0</td>\n",
       "      <td>0.0</td>\n",
       "    </tr>\n",
       "  </tbody>\n",
       "</table>\n",
       "<p>5 rows × 52 columns</p>\n",
       "</div>"
      ],
      "text/plain": [
       "   Eye_Left_Blink  Eye_Left_Wide  Eye_Left_Right  Eye_Left_Left  Eye_Left_Up  \\\n",
       "0        0.090263            0.0             0.0       0.072830          0.0   \n",
       "1        0.083657            0.0             0.0       0.072615          0.0   \n",
       "2        0.089432            0.0             0.0       0.072615          0.0   \n",
       "3        0.091497            0.0             0.0       0.072433          0.0   \n",
       "4        0.087153            0.0             0.0       0.072433          0.0   \n",
       "\n",
       "   Eye_Left_Down  Eye_Right_Blink  Eye_Right_Wide  Eye_Right_Right  \\\n",
       "0       0.022194         0.061019             0.0              0.0   \n",
       "1       0.023017         0.059591             0.0              0.0   \n",
       "2       0.021703         0.060957             0.0              0.0   \n",
       "3       0.022464         0.058775             0.0              0.0   \n",
       "4       0.021962         0.060056             0.0              0.0   \n",
       "\n",
       "   Eye_Right_Left  ...  Tongue_Left  Tongue_Right  Tongue_Up  Tongue_Down  \\\n",
       "0        0.072830  ...          0.0           0.0        0.0          0.0   \n",
       "1        0.072615  ...          0.0           0.0        0.0          0.0   \n",
       "2        0.072615  ...          0.0           0.0        0.0          0.0   \n",
       "3        0.072433  ...          0.0           0.0        0.0          0.0   \n",
       "4        0.072433  ...          0.0           0.0        0.0          0.0   \n",
       "\n",
       "   Tongue_Roll  Tongue_LongStep2  Tongue_UpRight_Morph  Tongue_UpLeft_Morph  \\\n",
       "0     0.070815          0.247188                   0.0                  0.0   \n",
       "1     0.063293          0.244334                   0.0                  0.0   \n",
       "2     0.063293          0.244334                   0.0                  0.0   \n",
       "3     0.070870          0.235028                   0.0                  0.0   \n",
       "4     0.070870          0.235028                   0.0                  0.0   \n",
       "\n",
       "   Tongue_DownRight_Morph  Tongue_DownLeft_Morph  \n",
       "0                     0.0                    0.0  \n",
       "1                     0.0                    0.0  \n",
       "2                     0.0                    0.0  \n",
       "3                     0.0                    0.0  \n",
       "4                     0.0                    0.0  \n",
       "\n",
       "[5 rows x 52 columns]"
      ]
     },
     "execution_count": 7,
     "metadata": {},
     "output_type": "execute_result"
    }
   ],
   "source": [
    "X.head()"
   ]
  },
  {
   "cell_type": "code",
   "execution_count": 8,
   "id": "addea4a1",
   "metadata": {},
   "outputs": [
    {
     "data": {
      "text/plain": [
       "0    Neutral\n",
       "1    Neutral\n",
       "2    Neutral\n",
       "3    Neutral\n",
       "4    Neutral\n",
       "Name: Expression, dtype: object"
      ]
     },
     "execution_count": 8,
     "metadata": {},
     "output_type": "execute_result"
    }
   ],
   "source": [
    "y.head()"
   ]
  },
  {
   "cell_type": "markdown",
   "id": "9c002878",
   "metadata": {},
   "source": [
    "# Model"
   ]
  },
  {
   "cell_type": "markdown",
   "id": "86526a45",
   "metadata": {},
   "source": [
    "## K-nearest neigbors"
   ]
  },
  {
   "cell_type": "markdown",
   "id": "2aa56967",
   "metadata": {},
   "source": [
    "### Imports"
   ]
  },
  {
   "cell_type": "code",
   "execution_count": 9,
   "id": "b5ce33cc",
   "metadata": {},
   "outputs": [],
   "source": [
    "from sklearn.neighbors import KNeighborsClassifier\n",
    "from sklearn.model_selection import train_test_split\n",
    "from sklearn.metrics import ConfusionMatrixDisplay"
   ]
  },
  {
   "cell_type": "markdown",
   "id": "f977961b",
   "metadata": {},
   "source": [
    "### Model creation and training"
   ]
  },
  {
   "cell_type": "markdown",
   "id": "0b0bafde",
   "metadata": {},
   "source": [
    "Split data into training and testing set"
   ]
  },
  {
   "cell_type": "code",
   "execution_count": 10,
   "id": "43320022",
   "metadata": {},
   "outputs": [],
   "source": [
    "X_train, X_test, y_train, y_test = train_test_split(X, y, test_size=0.2, stratify=y)"
   ]
  },
  {
   "cell_type": "markdown",
   "id": "da5e4903",
   "metadata": {},
   "source": [
    "Create model, train and test it"
   ]
  },
  {
   "cell_type": "code",
   "execution_count": 11,
   "id": "9b0b276c",
   "metadata": {},
   "outputs": [
    {
     "data": {
      "text/plain": [
       "0.9965156794425087"
      ]
     },
     "execution_count": 11,
     "metadata": {},
     "output_type": "execute_result"
    }
   ],
   "source": [
    "knn = KNeighborsClassifier().fit(X_train, y_train)\n",
    "knn.score(X_test,y_test)"
   ]
  },
  {
   "cell_type": "code",
   "execution_count": 12,
   "id": "bb8018e8",
   "metadata": {},
   "outputs": [
    {
     "data": {
      "image/png": "[encoded data removed]",
      "text/plain": [
       "<Figure size 1080x720 with 2 Axes>"
      ]
     },
     "metadata": {
      "needs_background": "light"
     },
     "output_type": "display_data"
    }
   ],
   "source": [
    "fig, ax = plt.subplots(figsize=(15, 10))\n",
    "ConfusionMatrixDisplay.from_predictions(y_test, knn.predict(X_test), ax=ax)\n",
    "plt.show()"
   ]
  },
  {
   "cell_type": "markdown",
   "id": "59f5726d",
   "metadata": {},
   "source": [
    "## XGBoost tree"
   ]
  },
  {
   "cell_type": "markdown",
   "id": "f69c1c5f",
   "metadata": {},
   "source": [
    "### Imports"
   ]
  },
  {
   "cell_type": "code",
   "execution_count": 13,
   "id": "c2ea58d4",
   "metadata": {},
   "outputs": [],
   "source": [
    "from sklearn.ensemble import GradientBoostingClassifier"
   ]
  },
  {
   "cell_type": "code",
   "execution_count": 14,
   "id": "61b5ffd1",
   "metadata": {},
   "outputs": [
    {
     "data": {
      "text/plain": [
       "0.9930313588850174"
      ]
     },
     "execution_count": 14,
     "metadata": {},
     "output_type": "execute_result"
    }
   ],
   "source": [
    "clf = GradientBoostingClassifier().fit(X_train, y_train)\n",
    "clf.fit(X_train,y_train)\n",
    "clf.score(X_test, y_test)"
   ]
  },
  {
   "cell_type": "code",
   "execution_count": 15,
   "id": "8cf83eba",
   "metadata": {},
   "outputs": [
    {
     "data": {
      "image/png": "[encoded data removed]",
      "text/plain": [
       "<Figure size 1080x720 with 2 Axes>"
      ]
     },
     "metadata": {
      "needs_background": "light"
     },
     "output_type": "display_data"
    }
   ],
   "source": [
    "fig, ax = plt.subplots(figsize=(15, 10))\n",
    "ConfusionMatrixDisplay.from_predictions(y_test, clf.predict(X_test), ax=ax)\n",
    "plt.show()"
   ]
  },
  {
   "cell_type": "markdown",
   "id": "3bb9ed6f",
   "metadata": {},
   "source": [
    "## Random Forest"
   ]
  },
  {
   "cell_type": "code",
   "execution_count": 16,
   "id": "3cee9b64",
   "metadata": {},
   "outputs": [],
   "source": [
    "from sklearn.ensemble import RandomForestClassifier"
   ]
  },
  {
   "cell_type": "code",
   "execution_count": 17,
   "id": "d4c23e2d",
   "metadata": {},
   "outputs": [
    {
     "data": {
      "text/plain": [
       "0.9976771196283392"
      ]
     },
     "execution_count": 17,
     "metadata": {},
     "output_type": "execute_result"
    }
   ],
   "source": [
    "random_forest = RandomForestClassifier().fit(X_train, y_train)\n",
    "random_forest.score(X_test, y_test)"
   ]
  },
  {
   "cell_type": "code",
   "execution_count": 18,
   "id": "50d9cfd3",
   "metadata": {},
   "outputs": [
    {
     "data": {
      "image/png": "[encoded data removed]",
      "text/plain": [
       "<Figure size 1080x720 with 2 Axes>"
      ]
     },
     "metadata": {
      "needs_background": "light"
     },
     "output_type": "display_data"
    }
   ],
   "source": [
    "fig, ax = plt.subplots(figsize=(15, 10))\n",
    "ConfusionMatrixDisplay.from_predictions(y_test, random_forest.predict(X_test), ax=ax)\n",
    "plt.show()"
   ]
  },
  {
   "cell_type": "markdown",
   "id": "e3ca60cd",
   "metadata": {},
   "source": [
    "## LightGBM"
   ]
  },
  {
   "cell_type": "code",
   "execution_count": 4,
   "id": "9939b903",
   "metadata": {},
   "outputs": [],
   "source": [
    "import lightgbm as lgb"
   ]
  },
  {
   "cell_type": "code",
   "execution_count": 5,
   "id": "b1b5686c",
   "metadata": {},
   "outputs": [
    {
     "ename": "NameError",
     "evalue": "name 'X_train' is not defined",
     "output_type": "error",
     "traceback": [
      "\u001b[0;31m---------------------------------------------------------------------------\u001b[0m",
      "\u001b[0;31mNameError\u001b[0m                                 Traceback (most recent call last)",
      "\u001b[0;32m/var/folders/z2/kbk820zs4qqcblm94ncvb7fc0000gn/T/ipykernel_71563/1003989291.py\u001b[0m in \u001b[0;36m<module>\u001b[0;34m\u001b[0m\n\u001b[1;32m      1\u001b[0m \u001b[0mlgb_model\u001b[0m \u001b[0;34m=\u001b[0m \u001b[0mlgb\u001b[0m\u001b[0;34m.\u001b[0m\u001b[0mLGBMClassifier\u001b[0m\u001b[0;34m(\u001b[0m\u001b[0;34m)\u001b[0m\u001b[0;34m\u001b[0m\u001b[0;34m\u001b[0m\u001b[0m\n\u001b[0;32m----> 2\u001b[0;31m \u001b[0mlgb_model\u001b[0m\u001b[0;34m.\u001b[0m\u001b[0mfit\u001b[0m\u001b[0;34m(\u001b[0m\u001b[0mX_train\u001b[0m\u001b[0;34m,\u001b[0m \u001b[0my_train\u001b[0m\u001b[0;34m)\u001b[0m\u001b[0;34m\u001b[0m\u001b[0;34m\u001b[0m\u001b[0m\n\u001b[0m\u001b[1;32m      3\u001b[0m \u001b[0mlgb_model\u001b[0m\u001b[0;34m.\u001b[0m\u001b[0mscore\u001b[0m\u001b[0;34m(\u001b[0m\u001b[0mX_test\u001b[0m\u001b[0;34m,\u001b[0m \u001b[0my_test\u001b[0m\u001b[0;34m)\u001b[0m\u001b[0;34m\u001b[0m\u001b[0;34m\u001b[0m\u001b[0m\n",
      "\u001b[0;31mNameError\u001b[0m: name 'X_train' is not defined"
     ]
    }
   ],
   "source": [
    "lgb_model = lgb.LGBMClassifier()\n",
    "lgb_model.fit(X_train, y_train)\n",
    "lgb_model.score(X_test, y_test)"
   ]
  },
  {
   "cell_type": "markdown",
   "id": "cedc264b",
   "metadata": {},
   "source": [
    "## PCA"
   ]
  },
  {
   "cell_type": "code",
   "execution_count": 1,
   "id": "3eafd99b",
   "metadata": {},
   "outputs": [],
   "source": [
    "from sklearn.decomposition import PCA"
   ]
  },
  {
   "cell_type": "code",
   "execution_count": 2,
   "id": "58a9fb26",
   "metadata": {},
   "outputs": [
    {
     "ename": "NameError",
     "evalue": "name 'X' is not defined",
     "output_type": "error",
     "traceback": [
      "\u001b[0;31m---------------------------------------------------------------------------\u001b[0m",
      "\u001b[0;31mNameError\u001b[0m                                 Traceback (most recent call last)",
      "\u001b[0;32m/var/folders/z2/kbk820zs4qqcblm94ncvb7fc0000gn/T/ipykernel_71563/2523748016.py\u001b[0m in \u001b[0;36m<module>\u001b[0;34m\u001b[0m\n\u001b[1;32m      1\u001b[0m \u001b[0mpca\u001b[0m \u001b[0;34m=\u001b[0m \u001b[0mPCA\u001b[0m\u001b[0;34m(\u001b[0m\u001b[0mn_components\u001b[0m\u001b[0;34m=\u001b[0m\u001b[0;36m2\u001b[0m\u001b[0;34m)\u001b[0m\u001b[0;34m\u001b[0m\u001b[0;34m\u001b[0m\u001b[0m\n\u001b[0;32m----> 2\u001b[0;31m \u001b[0mpca\u001b[0m\u001b[0;34m.\u001b[0m\u001b[0mfit\u001b[0m\u001b[0;34m(\u001b[0m\u001b[0mX\u001b[0m\u001b[0;34m)\u001b[0m\u001b[0;34m\u001b[0m\u001b[0;34m\u001b[0m\u001b[0m\n\u001b[0m\u001b[1;32m      3\u001b[0m \u001b[0mX_pca\u001b[0m \u001b[0;34m=\u001b[0m \u001b[0mpca\u001b[0m\u001b[0;34m.\u001b[0m\u001b[0mtransform\u001b[0m\u001b[0;34m(\u001b[0m\u001b[0mX\u001b[0m\u001b[0;34m)\u001b[0m\u001b[0;34m\u001b[0m\u001b[0;34m\u001b[0m\u001b[0m\n\u001b[1;32m      4\u001b[0m \u001b[0mplt\u001b[0m\u001b[0;34m.\u001b[0m\u001b[0mscatter\u001b[0m\u001b[0;34m(\u001b[0m\u001b[0mX_pca\u001b[0m\u001b[0;34m[\u001b[0m\u001b[0;34m:\u001b[0m\u001b[0;34m,\u001b[0m\u001b[0;36m0\u001b[0m\u001b[0;34m]\u001b[0m\u001b[0;34m,\u001b[0m \u001b[0mX_pca\u001b[0m\u001b[0;34m[\u001b[0m\u001b[0;34m:\u001b[0m\u001b[0;34m,\u001b[0m\u001b[0;36m1\u001b[0m\u001b[0;34m]\u001b[0m\u001b[0;34m)\u001b[0m\u001b[0;34m\u001b[0m\u001b[0;34m\u001b[0m\u001b[0m\n",
      "\u001b[0;31mNameError\u001b[0m: name 'X' is not defined"
     ]
    }
   ],
   "source": [
    "pca = PCA(n_components=2)\n",
    "pca.fit(X)\n",
    "X_pca = pca.transform(X)\n",
    "plt.scatter(X_pca[:,0], X_pca[:,1])"
   ]
  },
  {
   "cell_type": "code",
   "execution_count": null,
   "id": "de83d110",
   "metadata": {},
   "outputs": [],
   "source": []
  }
 ],
 "metadata": {
  "interpreter": {
   "hash": "8c2cef518e44103d2e87bbc7bdbad3c849c59c4ad82abf34e0b5c0b1400204ca"
  },
  "kernelspec": {
   "display_name": "Python 3.8.12 64-bit ('base': conda)",
   "language": "python",
   "name": "python3"
  },
  "language_info": {
   "codemirror_mode": {
    "name": "ipython",
    "version": 3
   },
   "file_extension": ".py",
   "mimetype": "text/x-python",
   "name": "python",
   "nbconvert_exporter": "python",
   "pygments_lexer": "ipython3",
   "version": "3.8.12"
  }
 },
 "nbformat": 4,
 "nbformat_minor": 5
}

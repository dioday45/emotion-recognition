{
 "cells": [
  {
   "cell_type": "markdown",
   "id": "80670c60-6b70-4df3-9626-ce58dd901bce",
   "metadata": {},
   "source": [
    "# Data processing"
   ]
  },
  {
   "cell_type": "markdown",
   "id": "e48999d4",
   "metadata": {},
   "source": [
    "## Imports"
   ]
  },
  {
   "cell_type": "code",
   "execution_count": 69,
   "id": "e6779b9b-685f-4855-8aed-dbb2d7418ebc",
   "metadata": {},
   "outputs": [],
   "source": [
    "import pandas as pd\n",
    "import random"
   ]
  },
  {
   "cell_type": "markdown",
   "id": "89170ae4",
   "metadata": {},
   "source": [
    "## Data preparation\n",
    "Iterate over each participant and keep only the first 5 line and the 30 lines before `Apex==True` (for each expression)"
   ]
  },
  {
   "cell_type": "code",
   "execution_count": 70,
   "id": "8eefe85c-cbaf-4915-845a-939a1ac6fff1",
   "metadata": {},
   "outputs": [],
   "source": [
    "def first_20(df):\n",
    "    #only first 5 frame for each expression\n",
    "    df = df[df['Frame'] < 5].copy()\n",
    "    \n",
    "    #Change label to \"Neutral\"\n",
    "    df[\"Expression\"] = \"Neutral\"\n",
    "    return df\n",
    "\n",
    "#Get the 30 row before \"Apex\" == true (included)\n",
    "def first_20_before_apex(df):\n",
    "    idx = df[df['Apex']==True].index\n",
    "    filtered_idx = idx\n",
    "    for i in range(1,30):\n",
    "        filtered_idx = filtered_idx.union(idx-i)\n",
    "    \n",
    "    return df.iloc[filtered_idx]\n",
    "\n",
    "#Modify Subject number to the correct one\n",
    "def add_correct_subject_number(df, nb):\n",
    "    df[\"Subject number\"] = nb\n",
    "    return df"
   ]
  },
  {
   "cell_type": "code",
   "execution_count": 71,
   "id": "997e4920",
   "metadata": {},
   "outputs": [],
   "source": [
    "def get_data(subjects_eyes, subjects_lips, expression, subjects_number):\n",
    "    eyes_li = []\n",
    "    lips_li = []\n",
    "    assert (len(subjects_eyes) == len(subjects_lips))\n",
    "\n",
    "    for x in range(len(subjects_lips)):\n",
    "        eyes_path = \"Data/subject {}/Eyes/eye_blendshapes.csv\".format(subjects_eyes[x])\n",
    "        lips_path = \"Data/subject {}/Lips/lips_blendshapes.csv\".format(subjects_lips[x])\n",
    "\n",
    "        df1 = pd.read_csv(eyes_path)\n",
    "        df2 = pd.read_csv(lips_path)\n",
    "\n",
    "        df1 = df1[df1[\"Expression\"].isin(expression)].reset_index(drop=True)\n",
    "        df2 = df2[df2[\"Expression\"].isin(expression)].reset_index(drop=True)\n",
    "\n",
    "\n",
    "        df1 = pd.concat([first_20(df1), first_20_before_apex(df1)])\n",
    "        df2 = pd.concat([first_20(df2), first_20_before_apex(df2)])\n",
    "\n",
    "        eyes_li.append(add_correct_subject_number(df1, subjects_number[x]))\n",
    "        lips_li.append(add_correct_subject_number(df2, subjects_number[x]))\n",
    "\n",
    "    return pd.concat(eyes_li), pd.concat(lips_li)\n",
    "    \n",
    "expression = [\"Happy\", \"Sad\", \"Angry\", \"Fear\", \"Disgust\", \"Surprise\"]\n",
    "subjects = [0,1,2,3,4,5,6,8,9,10,11,12,13,14,15,16,17,18,19,20,21, 22, 23, 24, 25, 26] #skip subject 7\n",
    "Eyes_df, Lips_df = get_data(subjects_lips=subjects,subjects_eyes=subjects ,expression=expression, subjects_number=subjects)"
   ]
  },
  {
   "cell_type": "markdown",
   "id": "7eb4fa96",
   "metadata": {},
   "source": [
    "## Data augmentation"
   ]
  },
  {
   "cell_type": "code",
   "execution_count": 72,
   "id": "74c02ff0",
   "metadata": {},
   "outputs": [],
   "source": [
    "random.seed(0)\n",
    "subjects_augmented = [27,28,29,30,31,32,33,34,35,36,37,38,39,40,41,42,43,44,45,46,47,48,49,50,51,52]\n",
    "subjects_shuffled = random.sample(subjects, len(subjects))\n",
    "Eyes_df2, Lips_df2 = get_data(subjects_eyes=subjects, subjects_lips=subjects_shuffled, expression=expression, subjects_number=subjects_augmented)\n",
    "\n",
    "Eyes_df = Eyes_df.append(Eyes_df2, ignore_index=True)\n",
    "Lips_df = Lips_df.append(Lips_df2, ignore_index=True)"
   ]
  },
  {
   "cell_type": "markdown",
   "id": "baeba25b",
   "metadata": {},
   "source": [
    "Remove useless features"
   ]
  },
  {
   "cell_type": "code",
   "execution_count": 73,
   "id": "6d8da9b7",
   "metadata": {},
   "outputs": [],
   "source": [
    "#Remove useless features, keep expression and subject number label for eyes only\n",
    "Lips_df = Lips_df.drop([\"Subject number\", \"Expression\",\"Multiple expression\",\"Frame\",\"Apex\"], axis=1)\n",
    "Eyes_df = Eyes_df.drop([\"Multiple expression\",\"Frame\",\"Apex\", \"Max\", \"None\"], axis=1)"
   ]
  },
  {
   "cell_type": "markdown",
   "id": "b7b7f97d",
   "metadata": {},
   "source": [
    "Merge Lips and Eye together"
   ]
  },
  {
   "cell_type": "code",
   "execution_count": 74,
   "id": "48e8bb7f",
   "metadata": {},
   "outputs": [],
   "source": [
    "def merge_df(df1, df2):\n",
    "    return pd.concat([df1,df2], axis=1).reset_index(drop=True)\n",
    "\n",
    "\n",
    "expr_df = merge_df(Eyes_df, Lips_df)\n",
    "expr_df.to_csv(\"final_dataset.csv\")"
   ]
  },
  {
   "cell_type": "code",
   "execution_count": null,
   "id": "e74bf106",
   "metadata": {},
   "outputs": [],
   "source": []
  }
 ],
 "metadata": {
  "interpreter": {
   "hash": "8c2cef518e44103d2e87bbc7bdbad3c849c59c4ad82abf34e0b5c0b1400204ca"
  },
  "kernelspec": {
   "display_name": "Python 3 (ipykernel)",
   "language": "python",
   "name": "python3"
  },
  "language_info": {
   "codemirror_mode": {
    "name": "ipython",
    "version": 3
   },
   "file_extension": ".py",
   "mimetype": "text/x-python",
   "name": "python",
   "nbconvert_exporter": "python",
   "pygments_lexer": "ipython3",
   "version": "3.8.12"
  }
 },
 "nbformat": 4,
 "nbformat_minor": 5
}

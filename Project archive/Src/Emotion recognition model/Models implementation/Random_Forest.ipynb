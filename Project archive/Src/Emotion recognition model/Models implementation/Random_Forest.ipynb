{
 "cells": [
  {
   "cell_type": "markdown",
   "metadata": {},
   "source": [
    "# Random Forest"
   ]
  },
  {
   "cell_type": "markdown",
   "metadata": {},
   "source": [
    "## Imports"
   ]
  },
  {
   "cell_type": "code",
   "execution_count": 2,
   "metadata": {},
   "outputs": [],
   "source": [
    "from sklearn.ensemble import RandomForestClassifier\n",
    "from sklearn.metrics import ConfusionMatrixDisplay\n",
    "\n",
    "import pandas as pd\n",
    "import numpy as np\n",
    "import matplotlib.pyplot as plt\n",
    "import random\n",
    "import pickle\n",
    "%matplotlib inline"
   ]
  },
  {
   "cell_type": "markdown",
   "metadata": {},
   "source": [
    "## Dataset\n",
    "Define training/testing set by subject"
   ]
  },
  {
   "cell_type": "code",
   "execution_count": 3,
   "metadata": {},
   "outputs": [],
   "source": [
    "Dataset = pd.read_csv(\"final_dataset.csv\", index_col=0)\n",
    "\n",
    "train_test_limit = 40\n",
    "\n",
    "X = Dataset.drop(\"Expression\", axis = 1)\n",
    "X[X<1e-2]=0\n",
    "y = Dataset[[\"Subject number\", \"Expression\"]]\n",
    "\n",
    "X_train = X[X[\"Subject number\"] < train_test_limit].drop(\"Subject number\", axis = 1)\n",
    "y_train = y[y[\"Subject number\"] < train_test_limit][\"Expression\"]\n",
    "\n",
    "X_test = X[X[\"Subject number\"] >= train_test_limit].drop(\"Subject number\", axis=1)\n",
    "y_test = y[y[\"Subject number\"] >= train_test_limit][\"Expression\"]"
   ]
  },
  {
   "cell_type": "markdown",
   "metadata": {},
   "source": [
    "### Cross-evaluation algorithm"
   ]
  },
  {
   "cell_type": "code",
   "execution_count": 4,
   "metadata": {},
   "outputs": [],
   "source": [
    "subjects = [x for x in range(53) if x != 7] # skip subject 7\n",
    "\n",
    "def cross_val(model):\n",
    "    scores = []\n",
    "    for i in range(10):\n",
    "        subject = random.choices(subjects, k=10)\n",
    "        X_tr = X[~X[\"Subject number\"].isin(subject)].drop(\"Subject number\", axis=1)\n",
    "        y_tr = y[~y[\"Subject number\"].isin(subject)][\"Expression\"]\n",
    "        X_te = X[X[\"Subject number\"].isin(subject)].drop(\"Subject number\", axis=1)\n",
    "        y_te = y[y[\"Subject number\"].isin(subject)][\"Expression\"]\n",
    "        model.fit(X_tr, y_tr)\n",
    "        scores.append(model.score(X_te, y_te))\n",
    "    return np.array(scores)"
   ]
  },
  {
   "cell_type": "markdown",
   "metadata": {},
   "source": [
    "## Hyperparameters tuning"
   ]
  },
  {
   "cell_type": "markdown",
   "metadata": {},
   "source": [
    "### n_estimators"
   ]
  },
  {
   "cell_type": "code",
   "execution_count": 5,
   "metadata": {},
   "outputs": [],
   "source": [
    "n_estimators = [1, 2, 4, 8, 16, 32, 64, 100, 200]\n",
    "\n",
    "test_scores = []\n",
    "training_scores = []\n",
    "\n",
    "best_score = 0\n",
    "best_n = 0\n",
    "\n",
    "for estimator in n_estimators:\n",
    "   rf = RandomForestClassifier(n_estimators=estimator, n_jobs=-1)\n",
    "   rf.fit(X_train, y_train)\n",
    "   score = rf.score(X_test, y_test)\n",
    "   test_scores.append(score)\n",
    "   training_scores.append(rf.score(X_train, y_train))\n",
    "\n",
    "   if score > best_score : \n",
    "      best_n = estimator\n",
    "      best_score = score"
   ]
  },
  {
   "cell_type": "code",
   "execution_count": 6,
   "metadata": {},
   "outputs": [
    {
     "data": {
      "image/png": "[encoded data removed]",
      "text/plain": [
       "<Figure size 432x288 with 1 Axes>"
      ]
     },
     "metadata": {
      "needs_background": "light"
     },
     "output_type": "display_data"
    },
    {
     "name": "stdout",
     "output_type": "stream",
     "text": [
      "best n_estimator : 200\n"
     ]
    }
   ],
   "source": [
    "line1 = plt.plot(n_estimators, test_scores, 'r', label=\"Testing set\")\n",
    "line2 = plt.plot(n_estimators, training_scores, 'b', label=\"Training set\")\n",
    "plt.legend()\n",
    "plt.show()\n",
    "print(\"best n_estimator : \" + str(best_n))"
   ]
  },
  {
   "cell_type": "markdown",
   "metadata": {},
   "source": [
    "### max_depth"
   ]
  },
  {
   "cell_type": "code",
   "execution_count": 7,
   "metadata": {},
   "outputs": [],
   "source": [
    "max_depths = np.linspace(1, 64, 64, endpoint=True)\n",
    "training_results = []\n",
    "test_results = []\n",
    "\n",
    "best_score = 0\n",
    "best_depth = 0\n",
    "\n",
    "for max_depth in max_depths:\n",
    "   rf = RandomForestClassifier(max_depth=max_depth, n_jobs=-1)\n",
    "   rf.fit(X_train, y_train)\n",
    "   training_results.append(rf.score(X_train, y_train))\n",
    "   score = rf.score(X_test, y_test)\n",
    "   test_results.append(score)\n",
    "   if score > best_score : \n",
    "      best_score = score\n",
    "      best_depth = max_depth"
   ]
  },
  {
   "cell_type": "code",
   "execution_count": 8,
   "metadata": {},
   "outputs": [
    {
     "data": {
      "image/png": "[encoded data removed]",
      "text/plain": [
       "<Figure size 432x288 with 1 Axes>"
      ]
     },
     "metadata": {
      "needs_background": "light"
     },
     "output_type": "display_data"
    },
    {
     "name": "stdout",
     "output_type": "stream",
     "text": [
      "best max_depth : 56.0\n"
     ]
    }
   ],
   "source": [
    "line1 = plt.plot(max_depths, test_results, 'r', label=\"Testing set\")\n",
    "line2 = plt.plot(max_depths, training_results, 'b', label=\"Training set\")\n",
    "plt.legend()\n",
    "plt.show()\n",
    "print(\"best max_depth : \" + str(best_depth))"
   ]
  },
  {
   "cell_type": "markdown",
   "metadata": {},
   "source": [
    "## Final model"
   ]
  },
  {
   "cell_type": "code",
   "execution_count": 9,
   "metadata": {},
   "outputs": [
    {
     "name": "stdout",
     "output_type": "stream",
     "text": [
      "accuracy : 0.5431065842124408\n"
     ]
    }
   ],
   "source": [
    "rf_model = RandomForestClassifier(n_estimators=best_n, max_depth=best_depth)\n",
    "rf_model.fit(X_train, y_train)\n",
    "print(\"accuracy : {}\".format(rf_model.score(X_test, y_test)))"
   ]
  },
  {
   "cell_type": "code",
   "execution_count": 10,
   "metadata": {},
   "outputs": [
    {
     "data": {
      "image/png": "[encoded data removed]",
      "text/plain": [
       "<Figure size 1440x720 with 2 Axes>"
      ]
     },
     "metadata": {
      "needs_background": "light"
     },
     "output_type": "display_data"
    }
   ],
   "source": [
    "fig, ax = plt.subplots(figsize=(20, 10))\n",
    "gbm_cm = ConfusionMatrixDisplay.from_predictions(y_test, rf_model.predict(X_test), ax=ax)"
   ]
  },
  {
   "cell_type": "code",
   "execution_count": 11,
   "metadata": {},
   "outputs": [
    {
     "name": "stdout",
     "output_type": "stream",
     "text": [
      "[0.62060998 0.50677887 0.33048719 0.44472362 0.46996303 0.54062642\n",
      " 0.51919087 0.45934579 0.45172825 0.48293173]\n",
      "0.48 mean accuracy with a standard deviation of 0.07\n"
     ]
    }
   ],
   "source": [
    "rf_cross_val_scores = cross_val(rf_model)\n",
    "print(rf_cross_val_scores)\n",
    "print(\"%0.2f mean accuracy with a standard deviation of %0.2f\" % (rf_cross_val_scores.mean(), rf_cross_val_scores.std()))"
   ]
  },
  {
   "cell_type": "markdown",
   "metadata": {},
   "source": [
    "## Final model + Export"
   ]
  },
  {
   "cell_type": "code",
   "execution_count": 12,
   "metadata": {},
   "outputs": [
    {
     "data": {
      "text/plain": [
       "RandomForestClassifier(max_depth=56.0, n_estimators=200)"
      ]
     },
     "execution_count": 12,
     "metadata": {},
     "output_type": "execute_result"
    }
   ],
   "source": [
    "rf_final_model = RandomForestClassifier(n_estimators=best_n, max_depth=best_depth)\n",
    "rf_final_model.fit(X.drop(\"Subject number\", axis=1), y[\"Expression\"])"
   ]
  },
  {
   "cell_type": "code",
   "execution_count": 13,
   "metadata": {},
   "outputs": [],
   "source": [
    "pickle.dump(rf_final_model, open(\"Exported_models/random_forest_model.sav\", 'wb'))"
   ]
  }
 ],
 "metadata": {
  "interpreter": {
   "hash": "8c2cef518e44103d2e87bbc7bdbad3c849c59c4ad82abf34e0b5c0b1400204ca"
  },
  "kernelspec": {
   "display_name": "Python 3.8.12 64-bit ('base': conda)",
   "language": "python",
   "name": "python3"
  },
  "language_info": {
   "codemirror_mode": {
    "name": "ipython",
    "version": 3
   },
   "file_extension": ".py",
   "mimetype": "text/x-python",
   "name": "python",
   "nbconvert_exporter": "python",
   "pygments_lexer": "ipython3",
   "version": "3.8.12"
  },
  "orig_nbformat": 4
 },
 "nbformat": 4,
 "nbformat_minor": 2
}
